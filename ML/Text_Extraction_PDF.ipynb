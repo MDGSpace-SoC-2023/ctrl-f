{
  "nbformat": 4,
  "nbformat_minor": 0,
  "metadata": {
    "colab": {
      "provenance": []
    },
    "kernelspec": {
      "name": "python3",
      "display_name": "Python 3"
    },
    "language_info": {
      "name": "python"
    }
  },
  "cells": [
    {
      "cell_type": "markdown",
      "source": [
        "# ***Read Sleuth***\n",
        "> Aim : To facilitate image-based and text-based search for identical or similar content within a user-uploaded book database.\\\n",
        "This notebook aims at extracting text from pdf uploaded"
      ],
      "metadata": {
        "id": "S-LbMpDzGSg5"
      }
    },
    {
      "cell_type": "markdown",
      "source": [
        "# **Libraries used for project :**"
      ],
      "metadata": {
        "id": "VUc6gTuGHE2f"
      }
    },
    {
      "cell_type": "code",
      "execution_count": null,
      "metadata": {
        "id": "X24ViFA3GLQ4"
      },
      "outputs": [],
      "source": [
        "!apt-get install -y poppler-utils\n",
        "!pip install pytesseract pdf2image\n",
        "!apt-get install tesseract-ocr\n",
        "!pip install transformers\n",
        "!pip install sentence-transformers\n",
        "!ip install torch\n",
        "!pip install PyMuPDF"
      ]
    },
    {
      "cell_type": "markdown",
      "source": [
        "**Importing Dependencies**"
      ],
      "metadata": {
        "id": "1Lw6eouaHxlI"
      }
    },
    {
      "cell_type": "code",
      "source": [
        "import matplotlib.pyplot as plt\n",
        "import cv2\n",
        "from PIL import Image\n",
        "import pytesseract\n",
        "import cv2\n",
        "import numpy as np\n",
        "import fitz"
      ],
      "metadata": {
        "id": "Syh3uP6GHnBz"
      },
      "execution_count": 7,
      "outputs": []
    },
    {
      "cell_type": "markdown",
      "source": [
        "**Function to display images**"
      ],
      "metadata": {
        "id": "k0iLUazmH8Ac"
      }
    },
    {
      "cell_type": "code",
      "source": [
        "def display_image(image):\n",
        "    plt.imshow(cv2.cvtColor(image, cv2.COLOR_BGR2RGB))\n",
        "    plt.axis('off')\n",
        "    plt.show()"
      ],
      "metadata": {
        "id": "TUUPZeqFH6cD"
      },
      "execution_count": 8,
      "outputs": []
    },
    {
      "cell_type": "markdown",
      "source": [
        "> Firstly, when a book is uploaded, all the text is extracted with the help of PyTesseract and is converted stored in the form of array along with its page number.\\\n",
        "> Before performing OCR, there are some preprocessing steps which are to be applied.These include:\\\n",
        ">*   GreyScale Conversion\n",
        "*   Threshold Adjustment\n",
        "*   Inversion\n",
        "*   Dilation and Erosion\n",
        "\n",
        "But in our case, only first two are necessary. So, these were applied using ***OPEN-CV***\n",
        "\n"
      ],
      "metadata": {
        "id": "ttMgX2WMIFJe"
      }
    },
    {
      "cell_type": "code",
      "source": [
        "def pre_proc(im):\n",
        "    img = np.array(im)\n",
        "    def grayscale(image):\n",
        "        return cv2.cvtColor(image, cv2.COLOR_BGR2GRAY)\n",
        "    gray_image = grayscale(img)\n",
        "    thresh, im_bw = cv2.threshold(gray_image, 130, 200, cv2.THRESH_BINARY)\n",
        "    return im_bw\n",
        "\n",
        "def perform_ocr(pdf_path, page_number):\n",
        "    # Open PDF file\n",
        "    doc = fitz.open(pdf_path)\n",
        "\n",
        "    # Get the page\n",
        "    page = doc[page_number]\n",
        "\n",
        "    # Convert PDF page to an image\n",
        "    image = page.get_pixmap(matrix=fitz.Matrix(300/72, 300/72))\n",
        "    img = Image.frombytes(\"RGB\", [image.width, image.height], image.samples)\n",
        "\n",
        "    img = pre_proc(img)\n",
        "\n",
        "    # Perform OCR using Tesseract\n",
        "    ocr_text = pytesseract.image_to_string(img)\n",
        "\n",
        "    doc.close()\n",
        "\n",
        "    return ocr_text\n"
      ],
      "metadata": {
        "id": "sBwx8jXqIDQM"
      },
      "execution_count": 9,
      "outputs": []
    },
    {
      "cell_type": "markdown",
      "source": [
        "Function to get length of pdf"
      ],
      "metadata": {
        "id": "nivGleCeJwH4"
      }
    },
    {
      "cell_type": "code",
      "source": [
        "def get_pdf_len(pdf_path):\n",
        "    try:\n",
        "        doc = fitz.open(pdf_path)\n",
        "        num_pages = doc.page_count\n",
        "        doc.close()\n",
        "\n",
        "        return num_pages\n",
        "    except Exception as e:\n",
        "        print(f\"Error: {e}\")\n",
        "        return None"
      ],
      "metadata": {
        "id": "wupXYcYOJtlX"
      },
      "execution_count": 10,
      "outputs": []
    },
    {
      "cell_type": "markdown",
      "source": [
        "*Performing OCR*"
      ],
      "metadata": {
        "id": "uWvsaU9MKVlj"
      }
    },
    {
      "cell_type": "code",
      "source": [
        "pdf_path = \"/content/thermodynamics-an-engineering-approach-cengel-boles.pdf\"\n",
        "pdf_pages = get_pdf_len(pdf_path)\n",
        "e_text = []\n",
        "for i in range(get_pdf_len(pdf_path)):\n",
        "    if((i+1) % 10 == 0):\n",
        "      print(i+1)\n",
        "    text = perform_ocr(pdf_path, i)\n",
        "    text = text.split('\\n')\n",
        "    e_text.append((i+1,text))\n",
        "    if(i == 50):\n",
        "      break"
      ],
      "metadata": {
        "colab": {
          "base_uri": "https://localhost:8080/"
        },
        "id": "KbyQHKAFJ0fV",
        "outputId": "07218f49-191b-401c-fc53-c4875eaf8187"
      },
      "execution_count": 16,
      "outputs": [
        {
          "output_type": "stream",
          "name": "stdout",
          "text": [
            "10\n",
            "20\n",
            "30\n",
            "40\n",
            "50\n"
          ]
        }
      ]
    },
    {
      "cell_type": "markdown",
      "source": [
        "e_text is the array which contains text from all the pages of the book."
      ],
      "metadata": {
        "id": "qswfYOzGK2jS"
      }
    },
    {
      "cell_type": "code",
      "source": [
        "len(e_text)"
      ],
      "metadata": {
        "colab": {
          "base_uri": "https://localhost:8080/"
        },
        "id": "_TBY2mPKKz9j",
        "outputId": "c78c7f0a-0019-4bb4-f258-f7b7a73ed83a"
      },
      "execution_count": 17,
      "outputs": [
        {
          "output_type": "execute_result",
          "data": {
            "text/plain": [
              "51"
            ]
          },
          "metadata": {},
          "execution_count": 17
        }
      ]
    }
  ]
}